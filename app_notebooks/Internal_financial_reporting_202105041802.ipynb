version https://git-lfs.github.com/spec/v1
oid sha256:97df5f83ca706cf489c7c9fb07a99daf67bc24b57f5a148dac0b9a3efcc8cd7e
size 67547
